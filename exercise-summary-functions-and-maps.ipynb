{
 "cells": [
  {
   "cell_type": "markdown",
   "id": "2641fd11",
   "metadata": {
    "papermill": {
     "duration": 0.006077,
     "end_time": "2022-07-12T10:47:59.728755",
     "exception": false,
     "start_time": "2022-07-12T10:47:59.722678",
     "status": "completed"
    },
    "tags": []
   },
   "source": [
    "**This notebook is an exercise in the [Pandas](https://www.kaggle.com/learn/pandas) course.  You can reference the tutorial at [this link](https://www.kaggle.com/residentmario/summary-functions-and-maps).**\n",
    "\n",
    "---\n"
   ]
  },
  {
   "cell_type": "markdown",
   "id": "1dd0f650",
   "metadata": {
    "papermill": {
     "duration": 0.004583,
     "end_time": "2022-07-12T10:47:59.738511",
     "exception": false,
     "start_time": "2022-07-12T10:47:59.733928",
     "status": "completed"
    },
    "tags": []
   },
   "source": [
    "# Introduction\n",
    "\n",
    "Now you are ready to get a deeper understanding of your data.\n",
    "\n",
    "Run the following cell to load your data and some utility functions (including code to check your answers)."
   ]
  },
  {
   "cell_type": "code",
   "execution_count": 1,
   "id": "4da1727d",
   "metadata": {
    "execution": {
     "iopub.execute_input": "2022-07-12T10:47:59.750897Z",
     "iopub.status.busy": "2022-07-12T10:47:59.750054Z",
     "iopub.status.idle": "2022-07-12T10:48:06.154026Z",
     "shell.execute_reply": "2022-07-12T10:48:06.152526Z"
    },
    "papermill": {
     "duration": 6.414587,
     "end_time": "2022-07-12T10:48:06.157983",
     "exception": false,
     "start_time": "2022-07-12T10:47:59.743396",
     "status": "completed"
    },
    "tags": []
   },
   "outputs": [
    {
     "name": "stdout",
     "output_type": "stream",
     "text": [
      "Setup complete.\n"
     ]
    },
    {
     "data": {
      "text/html": [
       "<div>\n",
       "<style scoped>\n",
       "    .dataframe tbody tr th:only-of-type {\n",
       "        vertical-align: middle;\n",
       "    }\n",
       "\n",
       "    .dataframe tbody tr th {\n",
       "        vertical-align: top;\n",
       "    }\n",
       "\n",
       "    .dataframe thead th {\n",
       "        text-align: right;\n",
       "    }\n",
       "</style>\n",
       "<table border=\"1\" class=\"dataframe\">\n",
       "  <thead>\n",
       "    <tr style=\"text-align: right;\">\n",
       "      <th></th>\n",
       "      <th>country</th>\n",
       "      <th>description</th>\n",
       "      <th>designation</th>\n",
       "      <th>points</th>\n",
       "      <th>price</th>\n",
       "      <th>province</th>\n",
       "      <th>region_1</th>\n",
       "      <th>region_2</th>\n",
       "      <th>taster_name</th>\n",
       "      <th>taster_twitter_handle</th>\n",
       "      <th>title</th>\n",
       "      <th>variety</th>\n",
       "      <th>winery</th>\n",
       "    </tr>\n",
       "  </thead>\n",
       "  <tbody>\n",
       "    <tr>\n",
       "      <th>0</th>\n",
       "      <td>Italy</td>\n",
       "      <td>Aromas include tropical fruit, broom, brimston...</td>\n",
       "      <td>Vulkà Bianco</td>\n",
       "      <td>87</td>\n",
       "      <td>NaN</td>\n",
       "      <td>Sicily &amp; Sardinia</td>\n",
       "      <td>Etna</td>\n",
       "      <td>NaN</td>\n",
       "      <td>Kerin O’Keefe</td>\n",
       "      <td>@kerinokeefe</td>\n",
       "      <td>Nicosia 2013 Vulkà Bianco  (Etna)</td>\n",
       "      <td>White Blend</td>\n",
       "      <td>Nicosia</td>\n",
       "    </tr>\n",
       "    <tr>\n",
       "      <th>1</th>\n",
       "      <td>Portugal</td>\n",
       "      <td>This is ripe and fruity, a wine that is smooth...</td>\n",
       "      <td>Avidagos</td>\n",
       "      <td>87</td>\n",
       "      <td>15.0</td>\n",
       "      <td>Douro</td>\n",
       "      <td>NaN</td>\n",
       "      <td>NaN</td>\n",
       "      <td>Roger Voss</td>\n",
       "      <td>@vossroger</td>\n",
       "      <td>Quinta dos Avidagos 2011 Avidagos Red (Douro)</td>\n",
       "      <td>Portuguese Red</td>\n",
       "      <td>Quinta dos Avidagos</td>\n",
       "    </tr>\n",
       "    <tr>\n",
       "      <th>2</th>\n",
       "      <td>US</td>\n",
       "      <td>Tart and snappy, the flavors of lime flesh and...</td>\n",
       "      <td>NaN</td>\n",
       "      <td>87</td>\n",
       "      <td>14.0</td>\n",
       "      <td>Oregon</td>\n",
       "      <td>Willamette Valley</td>\n",
       "      <td>Willamette Valley</td>\n",
       "      <td>Paul Gregutt</td>\n",
       "      <td>@paulgwine</td>\n",
       "      <td>Rainstorm 2013 Pinot Gris (Willamette Valley)</td>\n",
       "      <td>Pinot Gris</td>\n",
       "      <td>Rainstorm</td>\n",
       "    </tr>\n",
       "    <tr>\n",
       "      <th>3</th>\n",
       "      <td>US</td>\n",
       "      <td>Pineapple rind, lemon pith and orange blossom ...</td>\n",
       "      <td>Reserve Late Harvest</td>\n",
       "      <td>87</td>\n",
       "      <td>13.0</td>\n",
       "      <td>Michigan</td>\n",
       "      <td>Lake Michigan Shore</td>\n",
       "      <td>NaN</td>\n",
       "      <td>Alexander Peartree</td>\n",
       "      <td>NaN</td>\n",
       "      <td>St. Julian 2013 Reserve Late Harvest Riesling ...</td>\n",
       "      <td>Riesling</td>\n",
       "      <td>St. Julian</td>\n",
       "    </tr>\n",
       "    <tr>\n",
       "      <th>4</th>\n",
       "      <td>US</td>\n",
       "      <td>Much like the regular bottling from 2012, this...</td>\n",
       "      <td>Vintner's Reserve Wild Child Block</td>\n",
       "      <td>87</td>\n",
       "      <td>65.0</td>\n",
       "      <td>Oregon</td>\n",
       "      <td>Willamette Valley</td>\n",
       "      <td>Willamette Valley</td>\n",
       "      <td>Paul Gregutt</td>\n",
       "      <td>@paulgwine</td>\n",
       "      <td>Sweet Cheeks 2012 Vintner's Reserve Wild Child...</td>\n",
       "      <td>Pinot Noir</td>\n",
       "      <td>Sweet Cheeks</td>\n",
       "    </tr>\n",
       "  </tbody>\n",
       "</table>\n",
       "</div>"
      ],
      "text/plain": [
       "    country                                        description  \\\n",
       "0     Italy  Aromas include tropical fruit, broom, brimston...   \n",
       "1  Portugal  This is ripe and fruity, a wine that is smooth...   \n",
       "2        US  Tart and snappy, the flavors of lime flesh and...   \n",
       "3        US  Pineapple rind, lemon pith and orange blossom ...   \n",
       "4        US  Much like the regular bottling from 2012, this...   \n",
       "\n",
       "                          designation  points  price           province  \\\n",
       "0                        Vulkà Bianco      87    NaN  Sicily & Sardinia   \n",
       "1                            Avidagos      87   15.0              Douro   \n",
       "2                                 NaN      87   14.0             Oregon   \n",
       "3                Reserve Late Harvest      87   13.0           Michigan   \n",
       "4  Vintner's Reserve Wild Child Block      87   65.0             Oregon   \n",
       "\n",
       "              region_1           region_2         taster_name  \\\n",
       "0                 Etna                NaN       Kerin O’Keefe   \n",
       "1                  NaN                NaN          Roger Voss   \n",
       "2    Willamette Valley  Willamette Valley        Paul Gregutt   \n",
       "3  Lake Michigan Shore                NaN  Alexander Peartree   \n",
       "4    Willamette Valley  Willamette Valley        Paul Gregutt   \n",
       "\n",
       "  taster_twitter_handle                                              title  \\\n",
       "0          @kerinokeefe                  Nicosia 2013 Vulkà Bianco  (Etna)   \n",
       "1            @vossroger      Quinta dos Avidagos 2011 Avidagos Red (Douro)   \n",
       "2           @paulgwine       Rainstorm 2013 Pinot Gris (Willamette Valley)   \n",
       "3                   NaN  St. Julian 2013 Reserve Late Harvest Riesling ...   \n",
       "4           @paulgwine   Sweet Cheeks 2012 Vintner's Reserve Wild Child...   \n",
       "\n",
       "          variety               winery  \n",
       "0     White Blend              Nicosia  \n",
       "1  Portuguese Red  Quinta dos Avidagos  \n",
       "2      Pinot Gris            Rainstorm  \n",
       "3        Riesling           St. Julian  \n",
       "4      Pinot Noir         Sweet Cheeks  "
      ]
     },
     "execution_count": 1,
     "metadata": {},
     "output_type": "execute_result"
    }
   ],
   "source": [
    "import pandas as pd\n",
    "pd.set_option(\"display.max_rows\", 5)\n",
    "reviews = pd.read_csv(\"../input/wine-reviews/winemag-data-130k-v2.csv\", index_col=0)\n",
    "\n",
    "from learntools.core import binder; binder.bind(globals())\n",
    "from learntools.pandas.summary_functions_and_maps import *\n",
    "print(\"Setup complete.\")\n",
    "\n",
    "reviews.head()"
   ]
  },
  {
   "cell_type": "markdown",
   "id": "bfa61e72",
   "metadata": {
    "papermill": {
     "duration": 0.005116,
     "end_time": "2022-07-12T10:48:06.168780",
     "exception": false,
     "start_time": "2022-07-12T10:48:06.163664",
     "status": "completed"
    },
    "tags": []
   },
   "source": [
    "# Exercises"
   ]
  },
  {
   "cell_type": "markdown",
   "id": "1be1c1b7",
   "metadata": {
    "papermill": {
     "duration": 0.004962,
     "end_time": "2022-07-12T10:48:06.179058",
     "exception": false,
     "start_time": "2022-07-12T10:48:06.174096",
     "status": "completed"
    },
    "tags": []
   },
   "source": [
    "## 1.\n",
    "\n",
    "What is the median of the `points` column in the `reviews` DataFrame?"
   ]
  },
  {
   "cell_type": "code",
   "execution_count": 2,
   "id": "34a31177",
   "metadata": {
    "execution": {
     "iopub.execute_input": "2022-07-12T10:48:06.192037Z",
     "iopub.status.busy": "2022-07-12T10:48:06.191259Z",
     "iopub.status.idle": "2022-07-12T10:48:06.201984Z",
     "shell.execute_reply": "2022-07-12T10:48:06.200978Z"
    },
    "papermill": {
     "duration": 0.019608,
     "end_time": "2022-07-12T10:48:06.203891",
     "exception": false,
     "start_time": "2022-07-12T10:48:06.184283",
     "status": "completed"
    },
    "tags": []
   },
   "outputs": [
    {
     "data": {
      "application/javascript": [
       "parent.postMessage({\"jupyterEvent\": \"custom.exercise_interaction\", \"data\": {\"outcomeType\": 1, \"valueTowardsCompletion\": 0.14285714285714285, \"interactionType\": 1, \"questionType\": 1, \"questionId\": \"1_MedianPoints\", \"learnToolsVersion\": \"0.3.4\", \"failureMessage\": \"\", \"exceptionClass\": \"\", \"trace\": \"\"}}, \"*\")"
      ],
      "text/plain": [
       "<IPython.core.display.Javascript object>"
      ]
     },
     "metadata": {},
     "output_type": "display_data"
    },
    {
     "data": {
      "text/markdown": [
       "<span style=\"color:#33cc33\">Correct</span>"
      ],
      "text/plain": [
       "Correct"
      ]
     },
     "metadata": {},
     "output_type": "display_data"
    }
   ],
   "source": [
    "median_points = reviews.points.median()\n",
    "\n",
    "# Check your answer\n",
    "q1.check()"
   ]
  },
  {
   "cell_type": "code",
   "execution_count": 3,
   "id": "61aaab8b",
   "metadata": {
    "execution": {
     "iopub.execute_input": "2022-07-12T10:48:06.216905Z",
     "iopub.status.busy": "2022-07-12T10:48:06.216154Z",
     "iopub.status.idle": "2022-07-12T10:48:06.220292Z",
     "shell.execute_reply": "2022-07-12T10:48:06.219459Z"
    },
    "papermill": {
     "duration": 0.012906,
     "end_time": "2022-07-12T10:48:06.222261",
     "exception": false,
     "start_time": "2022-07-12T10:48:06.209355",
     "status": "completed"
    },
    "tags": []
   },
   "outputs": [],
   "source": [
    "#q1.hint()\n",
    "#q1.solution()"
   ]
  },
  {
   "cell_type": "markdown",
   "id": "c2d9135b",
   "metadata": {
    "papermill": {
     "duration": 0.005394,
     "end_time": "2022-07-12T10:48:06.233248",
     "exception": false,
     "start_time": "2022-07-12T10:48:06.227854",
     "status": "completed"
    },
    "tags": []
   },
   "source": [
    "## 2. \n",
    "What countries are represented in the dataset? (Your answer should not include any duplicates.)"
   ]
  },
  {
   "cell_type": "code",
   "execution_count": 4,
   "id": "a8a9d351",
   "metadata": {
    "execution": {
     "iopub.execute_input": "2022-07-12T10:48:06.247328Z",
     "iopub.status.busy": "2022-07-12T10:48:06.246505Z",
     "iopub.status.idle": "2022-07-12T10:48:06.262070Z",
     "shell.execute_reply": "2022-07-12T10:48:06.261121Z"
    },
    "papermill": {
     "duration": 0.024731,
     "end_time": "2022-07-12T10:48:06.263968",
     "exception": false,
     "start_time": "2022-07-12T10:48:06.239237",
     "status": "completed"
    },
    "tags": []
   },
   "outputs": [
    {
     "data": {
      "application/javascript": [
       "parent.postMessage({\"jupyterEvent\": \"custom.exercise_interaction\", \"data\": {\"outcomeType\": 1, \"valueTowardsCompletion\": 0.14285714285714285, \"interactionType\": 1, \"questionType\": 2, \"questionId\": \"2_UniqueCountries\", \"learnToolsVersion\": \"0.3.4\", \"failureMessage\": \"\", \"exceptionClass\": \"\", \"trace\": \"\"}}, \"*\")"
      ],
      "text/plain": [
       "<IPython.core.display.Javascript object>"
      ]
     },
     "metadata": {},
     "output_type": "display_data"
    },
    {
     "data": {
      "text/markdown": [
       "<span style=\"color:#33cc33\">Correct</span>"
      ],
      "text/plain": [
       "Correct"
      ]
     },
     "metadata": {},
     "output_type": "display_data"
    }
   ],
   "source": [
    "countries = reviews.country.unique()\n",
    "\n",
    "# Check your answer\n",
    "q2.check()"
   ]
  },
  {
   "cell_type": "code",
   "execution_count": 5,
   "id": "faf04c1d",
   "metadata": {
    "execution": {
     "iopub.execute_input": "2022-07-12T10:48:06.277982Z",
     "iopub.status.busy": "2022-07-12T10:48:06.277206Z",
     "iopub.status.idle": "2022-07-12T10:48:06.281452Z",
     "shell.execute_reply": "2022-07-12T10:48:06.280556Z"
    },
    "papermill": {
     "duration": 0.013824,
     "end_time": "2022-07-12T10:48:06.283724",
     "exception": false,
     "start_time": "2022-07-12T10:48:06.269900",
     "status": "completed"
    },
    "tags": []
   },
   "outputs": [],
   "source": [
    "#q2.hint()\n",
    "#q2.solution()"
   ]
  },
  {
   "cell_type": "markdown",
   "id": "d3885e35",
   "metadata": {
    "papermill": {
     "duration": 0.005502,
     "end_time": "2022-07-12T10:48:06.295087",
     "exception": false,
     "start_time": "2022-07-12T10:48:06.289585",
     "status": "completed"
    },
    "tags": []
   },
   "source": [
    "## 3.\n",
    "How often does each country appear in the dataset? Create a Series `reviews_per_country` mapping countries to the count of reviews of wines from that country."
   ]
  },
  {
   "cell_type": "code",
   "execution_count": 6,
   "id": "8bf6805d",
   "metadata": {
    "execution": {
     "iopub.execute_input": "2022-07-12T10:48:06.309111Z",
     "iopub.status.busy": "2022-07-12T10:48:06.308307Z",
     "iopub.status.idle": "2022-07-12T10:48:06.324989Z",
     "shell.execute_reply": "2022-07-12T10:48:06.324133Z"
    },
    "papermill": {
     "duration": 0.025939,
     "end_time": "2022-07-12T10:48:06.326955",
     "exception": false,
     "start_time": "2022-07-12T10:48:06.301016",
     "status": "completed"
    },
    "tags": []
   },
   "outputs": [
    {
     "data": {
      "application/javascript": [
       "parent.postMessage({\"jupyterEvent\": \"custom.exercise_interaction\", \"data\": {\"outcomeType\": 1, \"valueTowardsCompletion\": 0.14285714285714285, \"interactionType\": 1, \"questionType\": 1, \"questionId\": \"3_ReviewsPerCountry\", \"learnToolsVersion\": \"0.3.4\", \"failureMessage\": \"\", \"exceptionClass\": \"\", \"trace\": \"\"}}, \"*\")"
      ],
      "text/plain": [
       "<IPython.core.display.Javascript object>"
      ]
     },
     "metadata": {},
     "output_type": "display_data"
    },
    {
     "data": {
      "text/markdown": [
       "<span style=\"color:#33cc33\">Correct</span>"
      ],
      "text/plain": [
       "Correct"
      ]
     },
     "metadata": {},
     "output_type": "display_data"
    }
   ],
   "source": [
    "reviews_per_country = reviews.country.value_counts()\n",
    "\n",
    "# Check your answer\n",
    "q3.check()"
   ]
  },
  {
   "cell_type": "code",
   "execution_count": 7,
   "id": "0e3dfb3c",
   "metadata": {
    "execution": {
     "iopub.execute_input": "2022-07-12T10:48:06.341551Z",
     "iopub.status.busy": "2022-07-12T10:48:06.340812Z",
     "iopub.status.idle": "2022-07-12T10:48:06.344737Z",
     "shell.execute_reply": "2022-07-12T10:48:06.343829Z"
    },
    "papermill": {
     "duration": 0.013926,
     "end_time": "2022-07-12T10:48:06.347116",
     "exception": false,
     "start_time": "2022-07-12T10:48:06.333190",
     "status": "completed"
    },
    "tags": []
   },
   "outputs": [],
   "source": [
    "#q3.hint()\n",
    "#q3.solution()"
   ]
  },
  {
   "cell_type": "markdown",
   "id": "7f3e2f16",
   "metadata": {
    "papermill": {
     "duration": 0.005785,
     "end_time": "2022-07-12T10:48:06.359266",
     "exception": false,
     "start_time": "2022-07-12T10:48:06.353481",
     "status": "completed"
    },
    "tags": []
   },
   "source": [
    "## 4.\n",
    "Create variable `centered_price` containing a version of the `price` column with the mean price subtracted.\n",
    "\n",
    "(Note: this 'centering' transformation is a common preprocessing step before applying various machine learning algorithms.) "
   ]
  },
  {
   "cell_type": "code",
   "execution_count": 8,
   "id": "71877389",
   "metadata": {
    "execution": {
     "iopub.execute_input": "2022-07-12T10:48:06.373841Z",
     "iopub.status.busy": "2022-07-12T10:48:06.372930Z",
     "iopub.status.idle": "2022-07-12T10:48:06.431535Z",
     "shell.execute_reply": "2022-07-12T10:48:06.430418Z"
    },
    "papermill": {
     "duration": 0.068489,
     "end_time": "2022-07-12T10:48:06.433859",
     "exception": false,
     "start_time": "2022-07-12T10:48:06.365370",
     "status": "completed"
    },
    "tags": []
   },
   "outputs": [
    {
     "data": {
      "application/javascript": [
       "parent.postMessage({\"jupyterEvent\": \"custom.exercise_interaction\", \"data\": {\"outcomeType\": 1, \"valueTowardsCompletion\": 0.14285714285714285, \"interactionType\": 1, \"questionType\": 1, \"questionId\": \"4_CenteredPrice\", \"learnToolsVersion\": \"0.3.4\", \"failureMessage\": \"\", \"exceptionClass\": \"\", \"trace\": \"\"}}, \"*\")"
      ],
      "text/plain": [
       "<IPython.core.display.Javascript object>"
      ]
     },
     "metadata": {},
     "output_type": "display_data"
    },
    {
     "data": {
      "text/markdown": [
       "<span style=\"color:#33cc33\">Correct</span>"
      ],
      "text/plain": [
       "Correct"
      ]
     },
     "metadata": {},
     "output_type": "display_data"
    }
   ],
   "source": [
    "price_mean = reviews.price.mean()\n",
    "centered_price = reviews.price.map(lambda p: p - price_mean)\n",
    "\n",
    "# Check your answer\n",
    "q4.check()"
   ]
  },
  {
   "cell_type": "code",
   "execution_count": 9,
   "id": "e345e5a5",
   "metadata": {
    "execution": {
     "iopub.execute_input": "2022-07-12T10:48:06.448862Z",
     "iopub.status.busy": "2022-07-12T10:48:06.448287Z",
     "iopub.status.idle": "2022-07-12T10:48:06.453023Z",
     "shell.execute_reply": "2022-07-12T10:48:06.451942Z"
    },
    "papermill": {
     "duration": 0.014608,
     "end_time": "2022-07-12T10:48:06.455408",
     "exception": false,
     "start_time": "2022-07-12T10:48:06.440800",
     "status": "completed"
    },
    "tags": []
   },
   "outputs": [],
   "source": [
    "#q4.hint()\n",
    "#q4.solution()"
   ]
  },
  {
   "cell_type": "markdown",
   "id": "fdb50349",
   "metadata": {
    "papermill": {
     "duration": 0.006071,
     "end_time": "2022-07-12T10:48:06.468045",
     "exception": false,
     "start_time": "2022-07-12T10:48:06.461974",
     "status": "completed"
    },
    "tags": []
   },
   "source": [
    "## 5.\n",
    "I'm an economical wine buyer. Which wine is the \"best bargain\"? Create a variable `bargain_wine` with the title of the wine with the highest points-to-price ratio in the dataset."
   ]
  },
  {
   "cell_type": "code",
   "execution_count": 10,
   "id": "406d8918",
   "metadata": {
    "execution": {
     "iopub.execute_input": "2022-07-12T10:48:06.482940Z",
     "iopub.status.busy": "2022-07-12T10:48:06.482467Z",
     "iopub.status.idle": "2022-07-12T10:48:06.497437Z",
     "shell.execute_reply": "2022-07-12T10:48:06.496418Z"
    },
    "papermill": {
     "duration": 0.02494,
     "end_time": "2022-07-12T10:48:06.499491",
     "exception": false,
     "start_time": "2022-07-12T10:48:06.474551",
     "status": "completed"
    },
    "tags": []
   },
   "outputs": [
    {
     "data": {
      "application/javascript": [
       "parent.postMessage({\"jupyterEvent\": \"custom.exercise_interaction\", \"data\": {\"outcomeType\": 1, \"valueTowardsCompletion\": 0.14285714285714285, \"interactionType\": 1, \"questionType\": 2, \"questionId\": \"5_BargainWine\", \"learnToolsVersion\": \"0.3.4\", \"failureMessage\": \"\", \"exceptionClass\": \"\", \"trace\": \"\"}}, \"*\")"
      ],
      "text/plain": [
       "<IPython.core.display.Javascript object>"
      ]
     },
     "metadata": {},
     "output_type": "display_data"
    },
    {
     "data": {
      "text/markdown": [
       "<span style=\"color:#33cc33\">Correct</span>"
      ],
      "text/plain": [
       "Correct"
      ]
     },
     "metadata": {},
     "output_type": "display_data"
    }
   ],
   "source": [
    "bargain_index = (reviews.points / reviews.price).idxmax()\n",
    "bargain_wine = reviews.loc[bargain_index,\"title\"]\n",
    "\n",
    "# Check your answer\n",
    "q5.check()"
   ]
  },
  {
   "cell_type": "code",
   "execution_count": 11,
   "id": "477f5249",
   "metadata": {
    "execution": {
     "iopub.execute_input": "2022-07-12T10:48:06.513836Z",
     "iopub.status.busy": "2022-07-12T10:48:06.513436Z",
     "iopub.status.idle": "2022-07-12T10:48:06.518573Z",
     "shell.execute_reply": "2022-07-12T10:48:06.517752Z"
    },
    "papermill": {
     "duration": 0.014958,
     "end_time": "2022-07-12T10:48:06.520774",
     "exception": false,
     "start_time": "2022-07-12T10:48:06.505816",
     "status": "completed"
    },
    "tags": []
   },
   "outputs": [],
   "source": [
    "#q5.hint()\n",
    "#q5.solution()"
   ]
  },
  {
   "cell_type": "markdown",
   "id": "879743f9",
   "metadata": {
    "papermill": {
     "duration": 0.006051,
     "end_time": "2022-07-12T10:48:06.533291",
     "exception": false,
     "start_time": "2022-07-12T10:48:06.527240",
     "status": "completed"
    },
    "tags": []
   },
   "source": [
    "## 6.\n",
    "There are only so many words you can use when describing a bottle of wine. Is a wine more likely to be \"tropical\" or \"fruity\"? Create a Series `descriptor_counts` counting how many times each of these two words appears in the `description` column in the dataset. (For simplicity, let's ignore the capitalized versions of these words.)"
   ]
  },
  {
   "cell_type": "code",
   "execution_count": 12,
   "id": "191ce11b",
   "metadata": {
    "execution": {
     "iopub.execute_input": "2022-07-12T10:48:06.547723Z",
     "iopub.status.busy": "2022-07-12T10:48:06.547266Z",
     "iopub.status.idle": "2022-07-12T10:48:06.683664Z",
     "shell.execute_reply": "2022-07-12T10:48:06.682459Z"
    },
    "papermill": {
     "duration": 0.146225,
     "end_time": "2022-07-12T10:48:06.685707",
     "exception": false,
     "start_time": "2022-07-12T10:48:06.539482",
     "status": "completed"
    },
    "tags": []
   },
   "outputs": [
    {
     "data": {
      "application/javascript": [
       "parent.postMessage({\"jupyterEvent\": \"custom.exercise_interaction\", \"data\": {\"outcomeType\": 1, \"valueTowardsCompletion\": 0.14285714285714285, \"interactionType\": 1, \"questionType\": 1, \"questionId\": \"6_DescriptorCounts\", \"learnToolsVersion\": \"0.3.4\", \"failureMessage\": \"\", \"exceptionClass\": \"\", \"trace\": \"\"}}, \"*\")"
      ],
      "text/plain": [
       "<IPython.core.display.Javascript object>"
      ]
     },
     "metadata": {},
     "output_type": "display_data"
    },
    {
     "data": {
      "text/markdown": [
       "<span style=\"color:#33cc33\">Correct</span>"
      ],
      "text/plain": [
       "Correct"
      ]
     },
     "metadata": {},
     "output_type": "display_data"
    }
   ],
   "source": [
    "tropical_count = reviews.description.map(lambda desc: \"tropical\" in desc).sum()\n",
    "fruity_count = reviews.description.map(lambda desc: \"fruity\" in desc).sum()\n",
    "descriptor_counts = pd.Series([tropical_count, fruity_count], index=['tropical', 'fruity'])\n",
    "# Check your answer\n",
    "q6.check()"
   ]
  },
  {
   "cell_type": "code",
   "execution_count": 13,
   "id": "b71f0325",
   "metadata": {
    "execution": {
     "iopub.execute_input": "2022-07-12T10:48:06.701464Z",
     "iopub.status.busy": "2022-07-12T10:48:06.700510Z",
     "iopub.status.idle": "2022-07-12T10:48:06.705088Z",
     "shell.execute_reply": "2022-07-12T10:48:06.704024Z"
    },
    "papermill": {
     "duration": 0.014703,
     "end_time": "2022-07-12T10:48:06.707162",
     "exception": false,
     "start_time": "2022-07-12T10:48:06.692459",
     "status": "completed"
    },
    "tags": []
   },
   "outputs": [],
   "source": [
    "#q6.hint()\n",
    "#q6.solution()"
   ]
  },
  {
   "cell_type": "markdown",
   "id": "176f15a4",
   "metadata": {
    "papermill": {
     "duration": 0.006391,
     "end_time": "2022-07-12T10:48:06.720397",
     "exception": false,
     "start_time": "2022-07-12T10:48:06.714006",
     "status": "completed"
    },
    "tags": []
   },
   "source": [
    "## 7.\n",
    "We'd like to host these wine reviews on our website, but a rating system ranging from 80 to 100 points is too hard to understand - we'd like to translate them into simple star ratings. A score of 95 or higher counts as 3 stars, a score of at least 85 but less than 95 is 2 stars. Any other score is 1 star.\n",
    "\n",
    "Also, the Canadian Vintners Association bought a lot of ads on the site, so any wines from Canada should automatically get 3 stars, regardless of points.\n",
    "\n",
    "Create a series `star_ratings` with the number of stars corresponding to each review in the dataset."
   ]
  },
  {
   "cell_type": "code",
   "execution_count": 14,
   "id": "81b467bb",
   "metadata": {
    "execution": {
     "iopub.execute_input": "2022-07-12T10:48:06.736439Z",
     "iopub.status.busy": "2022-07-12T10:48:06.735201Z",
     "iopub.status.idle": "2022-07-12T10:48:10.035046Z",
     "shell.execute_reply": "2022-07-12T10:48:10.033797Z"
    },
    "papermill": {
     "duration": 3.310676,
     "end_time": "2022-07-12T10:48:10.037840",
     "exception": false,
     "start_time": "2022-07-12T10:48:06.727164",
     "status": "completed"
    },
    "tags": []
   },
   "outputs": [
    {
     "data": {
      "application/javascript": [
       "parent.postMessage({\"jupyterEvent\": \"custom.exercise_interaction\", \"data\": {\"outcomeType\": 1, \"valueTowardsCompletion\": 0.14285714285714285, \"interactionType\": 1, \"questionType\": 1, \"questionId\": \"7_StarRatings\", \"learnToolsVersion\": \"0.3.4\", \"failureMessage\": \"\", \"exceptionClass\": \"\", \"trace\": \"\"}}, \"*\")"
      ],
      "text/plain": [
       "<IPython.core.display.Javascript object>"
      ]
     },
     "metadata": {},
     "output_type": "display_data"
    },
    {
     "data": {
      "text/markdown": [
       "<span style=\"color:#33cc33\">Correct</span>"
      ],
      "text/plain": [
       "Correct"
      ]
     },
     "metadata": {},
     "output_type": "display_data"
    }
   ],
   "source": [
    "def stars(row):\n",
    "    if row.country == \"Canada\":\n",
    "        return 3\n",
    "    if row.points >= 95:\n",
    "        return 3\n",
    "    if row.points >= 85:\n",
    "        return 2\n",
    "    return 1\n",
    "star_ratings = reviews.apply(stars,axis=\"columns\")\n",
    "\n",
    "# Check your answer\n",
    "q7.check()"
   ]
  },
  {
   "cell_type": "code",
   "execution_count": 15,
   "id": "4b799ae1",
   "metadata": {
    "execution": {
     "iopub.execute_input": "2022-07-12T10:48:10.054602Z",
     "iopub.status.busy": "2022-07-12T10:48:10.054157Z",
     "iopub.status.idle": "2022-07-12T10:48:10.059780Z",
     "shell.execute_reply": "2022-07-12T10:48:10.058860Z"
    },
    "papermill": {
     "duration": 0.016828,
     "end_time": "2022-07-12T10:48:10.062026",
     "exception": false,
     "start_time": "2022-07-12T10:48:10.045198",
     "status": "completed"
    },
    "tags": []
   },
   "outputs": [],
   "source": [
    "#q7.hint()\n",
    "#q7.solution()"
   ]
  },
  {
   "cell_type": "markdown",
   "id": "436c6eca",
   "metadata": {
    "papermill": {
     "duration": 0.006682,
     "end_time": "2022-07-12T10:48:10.075851",
     "exception": false,
     "start_time": "2022-07-12T10:48:10.069169",
     "status": "completed"
    },
    "tags": []
   },
   "source": [
    "# Keep going\n",
    "Continue to **[grouping and sorting](https://www.kaggle.com/residentmario/grouping-and-sorting)**."
   ]
  },
  {
   "cell_type": "markdown",
   "id": "75feea36",
   "metadata": {
    "papermill": {
     "duration": 0.006852,
     "end_time": "2022-07-12T10:48:10.089946",
     "exception": false,
     "start_time": "2022-07-12T10:48:10.083094",
     "status": "completed"
    },
    "tags": []
   },
   "source": [
    "---\n",
    "\n",
    "\n",
    "\n",
    "\n",
    "*Have questions or comments? Visit the [course discussion forum](https://www.kaggle.com/learn/pandas/discussion) to chat with other learners.*"
   ]
  }
 ],
 "metadata": {
  "kernelspec": {
   "display_name": "Python 3",
   "language": "python",
   "name": "python3"
  },
  "language_info": {
   "codemirror_mode": {
    "name": "ipython",
    "version": 3
   },
   "file_extension": ".py",
   "mimetype": "text/x-python",
   "name": "python",
   "nbconvert_exporter": "python",
   "pygments_lexer": "ipython3",
   "version": "3.7.12"
  },
  "papermill": {
   "default_parameters": {},
   "duration": 20.444157,
   "end_time": "2022-07-12T10:48:11.020323",
   "environment_variables": {},
   "exception": null,
   "input_path": "__notebook__.ipynb",
   "output_path": "__notebook__.ipynb",
   "parameters": {},
   "start_time": "2022-07-12T10:47:50.576166",
   "version": "2.3.4"
  }
 },
 "nbformat": 4,
 "nbformat_minor": 5
}
