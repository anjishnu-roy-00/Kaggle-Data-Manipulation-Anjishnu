{
 "cells": [
  {
   "cell_type": "markdown",
   "id": "d93ab7d1",
   "metadata": {
    "papermill": {
     "duration": 0.00629,
     "end_time": "2022-07-12T13:33:39.291649",
     "exception": false,
     "start_time": "2022-07-12T13:33:39.285359",
     "status": "completed"
    },
    "tags": []
   },
   "source": [
    "**This notebook is an exercise in the [Pandas](https://www.kaggle.com/learn/pandas) course.  You can reference the tutorial at [this link](https://www.kaggle.com/residentmario/data-types-and-missing-values).**\n",
    "\n",
    "---\n"
   ]
  },
  {
   "cell_type": "markdown",
   "id": "86154fff",
   "metadata": {
    "papermill": {
     "duration": 0.004652,
     "end_time": "2022-07-12T13:33:39.301504",
     "exception": false,
     "start_time": "2022-07-12T13:33:39.296852",
     "status": "completed"
    },
    "tags": []
   },
   "source": [
    "# Introduction\n",
    "\n",
    "Run the following cell to load your data and some utility functions."
   ]
  },
  {
   "cell_type": "code",
   "execution_count": 1,
   "id": "2f0f1e7b",
   "metadata": {
    "execution": {
     "iopub.execute_input": "2022-07-12T13:33:39.313503Z",
     "iopub.status.busy": "2022-07-12T13:33:39.312983Z",
     "iopub.status.idle": "2022-07-12T13:33:42.271926Z",
     "shell.execute_reply": "2022-07-12T13:33:42.270653Z"
    },
    "papermill": {
     "duration": 2.968917,
     "end_time": "2022-07-12T13:33:42.275388",
     "exception": false,
     "start_time": "2022-07-12T13:33:39.306471",
     "status": "completed"
    },
    "tags": []
   },
   "outputs": [
    {
     "name": "stdout",
     "output_type": "stream",
     "text": [
      "Setup complete.\n"
     ]
    }
   ],
   "source": [
    "import pandas as pd\n",
    "\n",
    "reviews = pd.read_csv(\"../input/wine-reviews/winemag-data-130k-v2.csv\", index_col=0)\n",
    "\n",
    "from learntools.core import binder; binder.bind(globals())\n",
    "from learntools.pandas.data_types_and_missing_data import *\n",
    "print(\"Setup complete.\")"
   ]
  },
  {
   "cell_type": "markdown",
   "id": "01c655a3",
   "metadata": {
    "papermill": {
     "duration": 0.004981,
     "end_time": "2022-07-12T13:33:42.286725",
     "exception": false,
     "start_time": "2022-07-12T13:33:42.281744",
     "status": "completed"
    },
    "tags": []
   },
   "source": [
    "# Exercises"
   ]
  },
  {
   "cell_type": "markdown",
   "id": "c7e2ec50",
   "metadata": {
    "papermill": {
     "duration": 0.005008,
     "end_time": "2022-07-12T13:33:42.297154",
     "exception": false,
     "start_time": "2022-07-12T13:33:42.292146",
     "status": "completed"
    },
    "tags": []
   },
   "source": [
    "## 1. \n",
    "What is the data type of the `points` column in the dataset?"
   ]
  },
  {
   "cell_type": "code",
   "execution_count": 2,
   "id": "1c218743",
   "metadata": {
    "execution": {
     "iopub.execute_input": "2022-07-12T13:33:42.309447Z",
     "iopub.status.busy": "2022-07-12T13:33:42.308996Z",
     "iopub.status.idle": "2022-07-12T13:33:42.322058Z",
     "shell.execute_reply": "2022-07-12T13:33:42.321087Z"
    },
    "papermill": {
     "duration": 0.021747,
     "end_time": "2022-07-12T13:33:42.324183",
     "exception": false,
     "start_time": "2022-07-12T13:33:42.302436",
     "status": "completed"
    },
    "tags": []
   },
   "outputs": [
    {
     "data": {
      "application/javascript": [
       "parent.postMessage({\"jupyterEvent\": \"custom.exercise_interaction\", \"data\": {\"outcomeType\": 1, \"valueTowardsCompletion\": 0.25, \"interactionType\": 1, \"questionType\": 1, \"questionId\": \"1_PointsDtype\", \"learnToolsVersion\": \"0.3.4\", \"failureMessage\": \"\", \"exceptionClass\": \"\", \"trace\": \"\"}}, \"*\")"
      ],
      "text/plain": [
       "<IPython.core.display.Javascript object>"
      ]
     },
     "metadata": {},
     "output_type": "display_data"
    },
    {
     "data": {
      "text/markdown": [
       "<span style=\"color:#33cc33\">Correct</span>"
      ],
      "text/plain": [
       "Correct"
      ]
     },
     "metadata": {},
     "output_type": "display_data"
    }
   ],
   "source": [
    "# Your code here\n",
    "dtype = reviews.points.dtype\n",
    "\n",
    "# Check your answer\n",
    "q1.check()"
   ]
  },
  {
   "cell_type": "code",
   "execution_count": 3,
   "id": "51c2a47f",
   "metadata": {
    "execution": {
     "iopub.execute_input": "2022-07-12T13:33:42.337127Z",
     "iopub.status.busy": "2022-07-12T13:33:42.336499Z",
     "iopub.status.idle": "2022-07-12T13:33:42.340858Z",
     "shell.execute_reply": "2022-07-12T13:33:42.340023Z"
    },
    "papermill": {
     "duration": 0.013515,
     "end_time": "2022-07-12T13:33:42.343124",
     "exception": false,
     "start_time": "2022-07-12T13:33:42.329609",
     "status": "completed"
    },
    "tags": []
   },
   "outputs": [],
   "source": [
    "#q1.hint()\n",
    "#q1.solution()"
   ]
  },
  {
   "cell_type": "markdown",
   "id": "056941d4",
   "metadata": {
    "papermill": {
     "duration": 0.005185,
     "end_time": "2022-07-12T13:33:42.354244",
     "exception": false,
     "start_time": "2022-07-12T13:33:42.349059",
     "status": "completed"
    },
    "tags": []
   },
   "source": [
    "## 2. \n",
    "Create a Series from entries in the `points` column, but convert the entries to strings. Hint: strings are `str` in native Python."
   ]
  },
  {
   "cell_type": "code",
   "execution_count": 4,
   "id": "b25202e8",
   "metadata": {
    "execution": {
     "iopub.execute_input": "2022-07-12T13:33:42.367152Z",
     "iopub.status.busy": "2022-07-12T13:33:42.366390Z",
     "iopub.status.idle": "2022-07-12T13:33:42.505036Z",
     "shell.execute_reply": "2022-07-12T13:33:42.503730Z"
    },
    "papermill": {
     "duration": 0.147996,
     "end_time": "2022-07-12T13:33:42.507555",
     "exception": false,
     "start_time": "2022-07-12T13:33:42.359559",
     "status": "completed"
    },
    "tags": []
   },
   "outputs": [
    {
     "data": {
      "application/javascript": [
       "parent.postMessage({\"jupyterEvent\": \"custom.exercise_interaction\", \"data\": {\"outcomeType\": 1, \"valueTowardsCompletion\": 0.25, \"interactionType\": 1, \"questionType\": 1, \"questionId\": \"2_StrPoints\", \"learnToolsVersion\": \"0.3.4\", \"failureMessage\": \"\", \"exceptionClass\": \"\", \"trace\": \"\"}}, \"*\")"
      ],
      "text/plain": [
       "<IPython.core.display.Javascript object>"
      ]
     },
     "metadata": {},
     "output_type": "display_data"
    },
    {
     "data": {
      "text/markdown": [
       "<span style=\"color:#33cc33\">Correct</span>"
      ],
      "text/plain": [
       "Correct"
      ]
     },
     "metadata": {},
     "output_type": "display_data"
    }
   ],
   "source": [
    "point_strings = reviews.points.astype(str)\n",
    "\n",
    "# Check your answer\n",
    "q2.check()"
   ]
  },
  {
   "cell_type": "code",
   "execution_count": 5,
   "id": "4bf73bdd",
   "metadata": {
    "execution": {
     "iopub.execute_input": "2022-07-12T13:33:42.521222Z",
     "iopub.status.busy": "2022-07-12T13:33:42.520804Z",
     "iopub.status.idle": "2022-07-12T13:33:42.525368Z",
     "shell.execute_reply": "2022-07-12T13:33:42.524023Z"
    },
    "papermill": {
     "duration": 0.014352,
     "end_time": "2022-07-12T13:33:42.527788",
     "exception": false,
     "start_time": "2022-07-12T13:33:42.513436",
     "status": "completed"
    },
    "tags": []
   },
   "outputs": [],
   "source": [
    "#q2.hint()\n",
    "#q2.solution()"
   ]
  },
  {
   "cell_type": "markdown",
   "id": "dc14ebdf",
   "metadata": {
    "papermill": {
     "duration": 0.005359,
     "end_time": "2022-07-12T13:33:42.538879",
     "exception": false,
     "start_time": "2022-07-12T13:33:42.533520",
     "status": "completed"
    },
    "tags": []
   },
   "source": [
    "## 3.\n",
    "Sometimes the price column is null. How many reviews in the dataset are missing a price?"
   ]
  },
  {
   "cell_type": "code",
   "execution_count": 6,
   "id": "3cc2a902",
   "metadata": {
    "execution": {
     "iopub.execute_input": "2022-07-12T13:33:42.552795Z",
     "iopub.status.busy": "2022-07-12T13:33:42.552310Z",
     "iopub.status.idle": "2022-07-12T13:33:42.573172Z",
     "shell.execute_reply": "2022-07-12T13:33:42.571760Z"
    },
    "papermill": {
     "duration": 0.03103,
     "end_time": "2022-07-12T13:33:42.575519",
     "exception": false,
     "start_time": "2022-07-12T13:33:42.544489",
     "status": "completed"
    },
    "tags": []
   },
   "outputs": [
    {
     "name": "stdout",
     "output_type": "stream",
     "text": [
      "8996\n",
      "8996\n"
     ]
    },
    {
     "data": {
      "application/javascript": [
       "parent.postMessage({\"jupyterEvent\": \"custom.exercise_interaction\", \"data\": {\"outcomeType\": 1, \"valueTowardsCompletion\": 0.25, \"interactionType\": 1, \"questionType\": 1, \"questionId\": \"3_CountMissingPrices\", \"learnToolsVersion\": \"0.3.4\", \"failureMessage\": \"\", \"exceptionClass\": \"\", \"trace\": \"\"}}, \"*\")"
      ],
      "text/plain": [
       "<IPython.core.display.Javascript object>"
      ]
     },
     "metadata": {},
     "output_type": "display_data"
    },
    {
     "data": {
      "text/markdown": [
       "<span style=\"color:#33cc33\">Correct</span>"
      ],
      "text/plain": [
       "Correct"
      ]
     },
     "metadata": {},
     "output_type": "display_data"
    }
   ],
   "source": [
    "mp = reviews[reviews.price.isnull()]\n",
    "print(len(mp))\n",
    "#print(mp)\n",
    "n_missing_prices = reviews.price.isnull().sum()\n",
    "print(n_missing_prices)\n",
    "# Check your answer\n",
    "q3.check()"
   ]
  },
  {
   "cell_type": "code",
   "execution_count": 7,
   "id": "974b1741",
   "metadata": {
    "execution": {
     "iopub.execute_input": "2022-07-12T13:33:42.589900Z",
     "iopub.status.busy": "2022-07-12T13:33:42.588841Z",
     "iopub.status.idle": "2022-07-12T13:33:42.593969Z",
     "shell.execute_reply": "2022-07-12T13:33:42.592973Z"
    },
    "papermill": {
     "duration": 0.014586,
     "end_time": "2022-07-12T13:33:42.596055",
     "exception": false,
     "start_time": "2022-07-12T13:33:42.581469",
     "status": "completed"
    },
    "tags": []
   },
   "outputs": [],
   "source": [
    "#q3.hint()\n",
    "#q3.solution()"
   ]
  },
  {
   "cell_type": "markdown",
   "id": "e4b0c742",
   "metadata": {
    "papermill": {
     "duration": 0.005831,
     "end_time": "2022-07-12T13:33:42.607757",
     "exception": false,
     "start_time": "2022-07-12T13:33:42.601926",
     "status": "completed"
    },
    "tags": []
   },
   "source": [
    "## 4.\n",
    "What are the most common wine-producing regions? Create a Series counting the number of times each value occurs in the `region_1` field. This field is often missing data, so replace missing values with `Unknown`. Sort in descending order.  Your output should look something like this:\n",
    "\n",
    "```\n",
    "Unknown                    21247\n",
    "Napa Valley                 4480\n",
    "                           ...  \n",
    "Bardolino Superiore            1\n",
    "Primitivo del Tarantino        1\n",
    "Name: region_1, Length: 1230, dtype: int64\n",
    "```"
   ]
  },
  {
   "cell_type": "code",
   "execution_count": 8,
   "id": "e0d71a90",
   "metadata": {
    "execution": {
     "iopub.execute_input": "2022-07-12T13:33:42.621937Z",
     "iopub.status.busy": "2022-07-12T13:33:42.621186Z",
     "iopub.status.idle": "2022-07-12T13:33:42.699989Z",
     "shell.execute_reply": "2022-07-12T13:33:42.698721Z"
    },
    "papermill": {
     "duration": 0.088841,
     "end_time": "2022-07-12T13:33:42.702652",
     "exception": false,
     "start_time": "2022-07-12T13:33:42.613811",
     "status": "completed"
    },
    "tags": []
   },
   "outputs": [
    {
     "data": {
      "application/javascript": [
       "parent.postMessage({\"jupyterEvent\": \"custom.exercise_interaction\", \"data\": {\"outcomeType\": 1, \"valueTowardsCompletion\": 0.25, \"interactionType\": 1, \"questionType\": 2, \"questionId\": \"4_ReviewsPerRegion\", \"learnToolsVersion\": \"0.3.4\", \"failureMessage\": \"\", \"exceptionClass\": \"\", \"trace\": \"\"}}, \"*\")"
      ],
      "text/plain": [
       "<IPython.core.display.Javascript object>"
      ]
     },
     "metadata": {},
     "output_type": "display_data"
    },
    {
     "data": {
      "text/markdown": [
       "<span style=\"color:#33cc33\">Correct</span>"
      ],
      "text/plain": [
       "Correct"
      ]
     },
     "metadata": {},
     "output_type": "display_data"
    }
   ],
   "source": [
    "reviews_per_region = reviews.region_1.fillna('Unknown').value_counts().sort_values(ascending=False)\n",
    "\n",
    "# Check your answer\n",
    "q4.check()"
   ]
  },
  {
   "cell_type": "code",
   "execution_count": 9,
   "id": "99edc635",
   "metadata": {
    "execution": {
     "iopub.execute_input": "2022-07-12T13:33:42.717534Z",
     "iopub.status.busy": "2022-07-12T13:33:42.717108Z",
     "iopub.status.idle": "2022-07-12T13:33:42.721864Z",
     "shell.execute_reply": "2022-07-12T13:33:42.720824Z"
    },
    "papermill": {
     "duration": 0.014459,
     "end_time": "2022-07-12T13:33:42.723976",
     "exception": false,
     "start_time": "2022-07-12T13:33:42.709517",
     "status": "completed"
    },
    "tags": []
   },
   "outputs": [],
   "source": [
    "#q4.hint()\n",
    "#q4.solution()"
   ]
  },
  {
   "cell_type": "markdown",
   "id": "440892a1",
   "metadata": {
    "papermill": {
     "duration": 0.006465,
     "end_time": "2022-07-12T13:33:42.737074",
     "exception": false,
     "start_time": "2022-07-12T13:33:42.730609",
     "status": "completed"
    },
    "tags": []
   },
   "source": [
    "# Keep going\n",
    "\n",
    "Move on to **[renaming and combining](https://www.kaggle.com/residentmario/renaming-and-combining)**."
   ]
  },
  {
   "cell_type": "markdown",
   "id": "1c537422",
   "metadata": {
    "papermill": {
     "duration": 0.006273,
     "end_time": "2022-07-12T13:33:42.749750",
     "exception": false,
     "start_time": "2022-07-12T13:33:42.743477",
     "status": "completed"
    },
    "tags": []
   },
   "source": [
    "---\n",
    "\n",
    "\n",
    "\n",
    "\n",
    "*Have questions or comments? Visit the [course discussion forum](https://www.kaggle.com/learn/pandas/discussion) to chat with other learners.*"
   ]
  }
 ],
 "metadata": {
  "kernelspec": {
   "display_name": "Python 3",
   "language": "python",
   "name": "python3"
  },
  "language_info": {
   "codemirror_mode": {
    "name": "ipython",
    "version": 3
   },
   "file_extension": ".py",
   "mimetype": "text/x-python",
   "name": "python",
   "nbconvert_exporter": "python",
   "pygments_lexer": "ipython3",
   "version": "3.7.12"
  },
  "papermill": {
   "default_parameters": {},
   "duration": 15.148844,
   "end_time": "2022-07-12T13:33:43.479370",
   "environment_variables": {},
   "exception": null,
   "input_path": "__notebook__.ipynb",
   "output_path": "__notebook__.ipynb",
   "parameters": {},
   "start_time": "2022-07-12T13:33:28.330526",
   "version": "2.3.4"
  }
 },
 "nbformat": 4,
 "nbformat_minor": 5
}
