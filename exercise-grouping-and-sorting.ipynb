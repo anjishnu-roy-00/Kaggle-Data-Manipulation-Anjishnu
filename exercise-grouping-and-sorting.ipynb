{
 "cells": [
  {
   "cell_type": "markdown",
   "id": "01d645b1",
   "metadata": {
    "papermill": {
     "duration": 0.005736,
     "end_time": "2022-07-12T12:34:12.694481",
     "exception": false,
     "start_time": "2022-07-12T12:34:12.688745",
     "status": "completed"
    },
    "tags": []
   },
   "source": [
    "**This notebook is an exercise in the [Pandas](https://www.kaggle.com/learn/pandas) course.  You can reference the tutorial at [this link](https://www.kaggle.com/residentmario/grouping-and-sorting).**\n",
    "\n",
    "---\n"
   ]
  },
  {
   "cell_type": "markdown",
   "id": "4023b550",
   "metadata": {
    "papermill": {
     "duration": 0.004501,
     "end_time": "2022-07-12T12:34:12.704075",
     "exception": false,
     "start_time": "2022-07-12T12:34:12.699574",
     "status": "completed"
    },
    "tags": []
   },
   "source": [
    "# Introduction\n",
    "\n",
    "In these exercises we'll apply groupwise analysis to our dataset.\n",
    "\n",
    "Run the code cell below to load the data before running the exercises."
   ]
  },
  {
   "cell_type": "code",
   "execution_count": 1,
   "id": "4bc58b46",
   "metadata": {
    "execution": {
     "iopub.execute_input": "2022-07-12T12:34:12.716927Z",
     "iopub.status.busy": "2022-07-12T12:34:12.715943Z",
     "iopub.status.idle": "2022-07-12T12:34:15.546254Z",
     "shell.execute_reply": "2022-07-12T12:34:15.544549Z"
    },
    "papermill": {
     "duration": 2.840441,
     "end_time": "2022-07-12T12:34:15.549399",
     "exception": false,
     "start_time": "2022-07-12T12:34:12.708958",
     "status": "completed"
    },
    "tags": []
   },
   "outputs": [
    {
     "name": "stdout",
     "output_type": "stream",
     "text": [
      "Setup complete.\n"
     ]
    }
   ],
   "source": [
    "import pandas as pd\n",
    "\n",
    "reviews = pd.read_csv(\"../input/wine-reviews/winemag-data-130k-v2.csv\", index_col=0)\n",
    "#pd.set_option(\"display.max_rows\", 5)\n",
    "\n",
    "from learntools.core import binder; binder.bind(globals())\n",
    "from learntools.pandas.grouping_and_sorting import *\n",
    "print(\"Setup complete.\")"
   ]
  },
  {
   "cell_type": "markdown",
   "id": "9e4d12ef",
   "metadata": {
    "papermill": {
     "duration": 0.004659,
     "end_time": "2022-07-12T12:34:15.559869",
     "exception": false,
     "start_time": "2022-07-12T12:34:15.555210",
     "status": "completed"
    },
    "tags": []
   },
   "source": [
    "# Exercises"
   ]
  },
  {
   "cell_type": "markdown",
   "id": "4ab5697f",
   "metadata": {
    "papermill": {
     "duration": 0.004785,
     "end_time": "2022-07-12T12:34:15.569925",
     "exception": false,
     "start_time": "2022-07-12T12:34:15.565140",
     "status": "completed"
    },
    "tags": []
   },
   "source": [
    "## 1.\n",
    "Who are the most common wine reviewers in the dataset? Create a `Series` whose index is the `taster_twitter_handle` category from the dataset, and whose values count how many reviews each person wrote."
   ]
  },
  {
   "cell_type": "code",
   "execution_count": 2,
   "id": "76f8cad9",
   "metadata": {
    "execution": {
     "iopub.execute_input": "2022-07-12T12:34:15.582013Z",
     "iopub.status.busy": "2022-07-12T12:34:15.581277Z",
     "iopub.status.idle": "2022-07-12T12:34:15.607502Z",
     "shell.execute_reply": "2022-07-12T12:34:15.606648Z"
    },
    "papermill": {
     "duration": 0.03451,
     "end_time": "2022-07-12T12:34:15.609358",
     "exception": false,
     "start_time": "2022-07-12T12:34:15.574848",
     "status": "completed"
    },
    "tags": []
   },
   "outputs": [
    {
     "data": {
      "application/javascript": [
       "parent.postMessage({\"jupyterEvent\": \"custom.exercise_interaction\", \"data\": {\"outcomeType\": 1, \"valueTowardsCompletion\": 0.16666666666666666, \"interactionType\": 1, \"questionType\": 1, \"questionId\": \"1_ReviewsWritten\", \"learnToolsVersion\": \"0.3.4\", \"failureMessage\": \"\", \"exceptionClass\": \"\", \"trace\": \"\"}}, \"*\")"
      ],
      "text/plain": [
       "<IPython.core.display.Javascript object>"
      ]
     },
     "metadata": {},
     "output_type": "display_data"
    },
    {
     "data": {
      "text/markdown": [
       "<span style=\"color:#33cc33\">Correct:</span> \n",
       "\n",
       "\n",
       "```python\n",
       "reviews_written = reviews.groupby('taster_twitter_handle').size()\n",
       "```\n",
       "or\n",
       "```python\n",
       "reviews_written = reviews.groupby('taster_twitter_handle').taster_twitter_handle.count()\n",
       "```\n"
      ],
      "text/plain": [
       "Correct: \n",
       "\n",
       "\n",
       "```python\n",
       "reviews_written = reviews.groupby('taster_twitter_handle').size()\n",
       "```\n",
       "or\n",
       "```python\n",
       "reviews_written = reviews.groupby('taster_twitter_handle').taster_twitter_handle.count()\n",
       "```"
      ]
     },
     "metadata": {},
     "output_type": "display_data"
    }
   ],
   "source": [
    "# Your code here\n",
    "reviews_written = reviews.groupby('taster_twitter_handle').taster_twitter_handle.count()\n",
    "\n",
    "\n",
    "\n",
    "# Check your answer\n",
    "q1.check()"
   ]
  },
  {
   "cell_type": "code",
   "execution_count": 3,
   "id": "8bed6008",
   "metadata": {
    "execution": {
     "iopub.execute_input": "2022-07-12T12:34:15.622101Z",
     "iopub.status.busy": "2022-07-12T12:34:15.621087Z",
     "iopub.status.idle": "2022-07-12T12:34:15.625221Z",
     "shell.execute_reply": "2022-07-12T12:34:15.624366Z"
    },
    "papermill": {
     "duration": 0.012541,
     "end_time": "2022-07-12T12:34:15.627241",
     "exception": false,
     "start_time": "2022-07-12T12:34:15.614700",
     "status": "completed"
    },
    "tags": []
   },
   "outputs": [],
   "source": [
    "#q1.hint()\n",
    "#q1.solution()"
   ]
  },
  {
   "cell_type": "markdown",
   "id": "aa733f17",
   "metadata": {
    "papermill": {
     "duration": 0.004982,
     "end_time": "2022-07-12T12:34:15.637537",
     "exception": false,
     "start_time": "2022-07-12T12:34:15.632555",
     "status": "completed"
    },
    "tags": []
   },
   "source": [
    "## 2.\n",
    "What is the best wine I can buy for a given amount of money? Create a `Series` whose index is wine prices and whose values is the maximum number of points a wine costing that much was given in a review. Sort the values by price, ascending (so that `4.0` dollars is at the top and `3300.0` dollars is at the bottom)."
   ]
  },
  {
   "cell_type": "code",
   "execution_count": 4,
   "id": "9b2cdb83",
   "metadata": {
    "execution": {
     "iopub.execute_input": "2022-07-12T12:34:15.649474Z",
     "iopub.status.busy": "2022-07-12T12:34:15.649056Z",
     "iopub.status.idle": "2022-07-12T12:34:15.672475Z",
     "shell.execute_reply": "2022-07-12T12:34:15.671200Z"
    },
    "papermill": {
     "duration": 0.032418,
     "end_time": "2022-07-12T12:34:15.675061",
     "exception": false,
     "start_time": "2022-07-12T12:34:15.642643",
     "status": "completed"
    },
    "tags": []
   },
   "outputs": [
    {
     "data": {
      "text/html": [
       "<div>\n",
       "<style scoped>\n",
       "    .dataframe tbody tr th:only-of-type {\n",
       "        vertical-align: middle;\n",
       "    }\n",
       "\n",
       "    .dataframe tbody tr th {\n",
       "        vertical-align: top;\n",
       "    }\n",
       "\n",
       "    .dataframe thead th {\n",
       "        text-align: right;\n",
       "    }\n",
       "</style>\n",
       "<table border=\"1\" class=\"dataframe\">\n",
       "  <thead>\n",
       "    <tr style=\"text-align: right;\">\n",
       "      <th></th>\n",
       "      <th>country</th>\n",
       "      <th>description</th>\n",
       "      <th>designation</th>\n",
       "      <th>points</th>\n",
       "      <th>price</th>\n",
       "      <th>province</th>\n",
       "      <th>region_1</th>\n",
       "      <th>region_2</th>\n",
       "      <th>taster_name</th>\n",
       "      <th>taster_twitter_handle</th>\n",
       "      <th>title</th>\n",
       "      <th>variety</th>\n",
       "      <th>winery</th>\n",
       "    </tr>\n",
       "  </thead>\n",
       "  <tbody>\n",
       "    <tr>\n",
       "      <th>0</th>\n",
       "      <td>Italy</td>\n",
       "      <td>Aromas include tropical fruit, broom, brimston...</td>\n",
       "      <td>Vulkà Bianco</td>\n",
       "      <td>87</td>\n",
       "      <td>NaN</td>\n",
       "      <td>Sicily &amp; Sardinia</td>\n",
       "      <td>Etna</td>\n",
       "      <td>NaN</td>\n",
       "      <td>Kerin O’Keefe</td>\n",
       "      <td>@kerinokeefe</td>\n",
       "      <td>Nicosia 2013 Vulkà Bianco  (Etna)</td>\n",
       "      <td>White Blend</td>\n",
       "      <td>Nicosia</td>\n",
       "    </tr>\n",
       "    <tr>\n",
       "      <th>1</th>\n",
       "      <td>Portugal</td>\n",
       "      <td>This is ripe and fruity, a wine that is smooth...</td>\n",
       "      <td>Avidagos</td>\n",
       "      <td>87</td>\n",
       "      <td>15.0</td>\n",
       "      <td>Douro</td>\n",
       "      <td>NaN</td>\n",
       "      <td>NaN</td>\n",
       "      <td>Roger Voss</td>\n",
       "      <td>@vossroger</td>\n",
       "      <td>Quinta dos Avidagos 2011 Avidagos Red (Douro)</td>\n",
       "      <td>Portuguese Red</td>\n",
       "      <td>Quinta dos Avidagos</td>\n",
       "    </tr>\n",
       "    <tr>\n",
       "      <th>2</th>\n",
       "      <td>US</td>\n",
       "      <td>Tart and snappy, the flavors of lime flesh and...</td>\n",
       "      <td>NaN</td>\n",
       "      <td>87</td>\n",
       "      <td>14.0</td>\n",
       "      <td>Oregon</td>\n",
       "      <td>Willamette Valley</td>\n",
       "      <td>Willamette Valley</td>\n",
       "      <td>Paul Gregutt</td>\n",
       "      <td>@paulgwine</td>\n",
       "      <td>Rainstorm 2013 Pinot Gris (Willamette Valley)</td>\n",
       "      <td>Pinot Gris</td>\n",
       "      <td>Rainstorm</td>\n",
       "    </tr>\n",
       "    <tr>\n",
       "      <th>3</th>\n",
       "      <td>US</td>\n",
       "      <td>Pineapple rind, lemon pith and orange blossom ...</td>\n",
       "      <td>Reserve Late Harvest</td>\n",
       "      <td>87</td>\n",
       "      <td>13.0</td>\n",
       "      <td>Michigan</td>\n",
       "      <td>Lake Michigan Shore</td>\n",
       "      <td>NaN</td>\n",
       "      <td>Alexander Peartree</td>\n",
       "      <td>NaN</td>\n",
       "      <td>St. Julian 2013 Reserve Late Harvest Riesling ...</td>\n",
       "      <td>Riesling</td>\n",
       "      <td>St. Julian</td>\n",
       "    </tr>\n",
       "    <tr>\n",
       "      <th>4</th>\n",
       "      <td>US</td>\n",
       "      <td>Much like the regular bottling from 2012, this...</td>\n",
       "      <td>Vintner's Reserve Wild Child Block</td>\n",
       "      <td>87</td>\n",
       "      <td>65.0</td>\n",
       "      <td>Oregon</td>\n",
       "      <td>Willamette Valley</td>\n",
       "      <td>Willamette Valley</td>\n",
       "      <td>Paul Gregutt</td>\n",
       "      <td>@paulgwine</td>\n",
       "      <td>Sweet Cheeks 2012 Vintner's Reserve Wild Child...</td>\n",
       "      <td>Pinot Noir</td>\n",
       "      <td>Sweet Cheeks</td>\n",
       "    </tr>\n",
       "  </tbody>\n",
       "</table>\n",
       "</div>"
      ],
      "text/plain": [
       "    country                                        description  \\\n",
       "0     Italy  Aromas include tropical fruit, broom, brimston...   \n",
       "1  Portugal  This is ripe and fruity, a wine that is smooth...   \n",
       "2        US  Tart and snappy, the flavors of lime flesh and...   \n",
       "3        US  Pineapple rind, lemon pith and orange blossom ...   \n",
       "4        US  Much like the regular bottling from 2012, this...   \n",
       "\n",
       "                          designation  points  price           province  \\\n",
       "0                        Vulkà Bianco      87    NaN  Sicily & Sardinia   \n",
       "1                            Avidagos      87   15.0              Douro   \n",
       "2                                 NaN      87   14.0             Oregon   \n",
       "3                Reserve Late Harvest      87   13.0           Michigan   \n",
       "4  Vintner's Reserve Wild Child Block      87   65.0             Oregon   \n",
       "\n",
       "              region_1           region_2         taster_name  \\\n",
       "0                 Etna                NaN       Kerin O’Keefe   \n",
       "1                  NaN                NaN          Roger Voss   \n",
       "2    Willamette Valley  Willamette Valley        Paul Gregutt   \n",
       "3  Lake Michigan Shore                NaN  Alexander Peartree   \n",
       "4    Willamette Valley  Willamette Valley        Paul Gregutt   \n",
       "\n",
       "  taster_twitter_handle                                              title  \\\n",
       "0          @kerinokeefe                  Nicosia 2013 Vulkà Bianco  (Etna)   \n",
       "1            @vossroger      Quinta dos Avidagos 2011 Avidagos Red (Douro)   \n",
       "2           @paulgwine       Rainstorm 2013 Pinot Gris (Willamette Valley)   \n",
       "3                   NaN  St. Julian 2013 Reserve Late Harvest Riesling ...   \n",
       "4           @paulgwine   Sweet Cheeks 2012 Vintner's Reserve Wild Child...   \n",
       "\n",
       "          variety               winery  \n",
       "0     White Blend              Nicosia  \n",
       "1  Portuguese Red  Quinta dos Avidagos  \n",
       "2      Pinot Gris            Rainstorm  \n",
       "3        Riesling           St. Julian  \n",
       "4      Pinot Noir         Sweet Cheeks  "
      ]
     },
     "execution_count": 4,
     "metadata": {},
     "output_type": "execute_result"
    }
   ],
   "source": [
    "reviews.head()"
   ]
  },
  {
   "cell_type": "code",
   "execution_count": 5,
   "id": "74c4b539",
   "metadata": {
    "execution": {
     "iopub.execute_input": "2022-07-12T12:34:15.688649Z",
     "iopub.status.busy": "2022-07-12T12:34:15.688158Z",
     "iopub.status.idle": "2022-07-12T12:34:15.702220Z",
     "shell.execute_reply": "2022-07-12T12:34:15.701196Z"
    },
    "papermill": {
     "duration": 0.022992,
     "end_time": "2022-07-12T12:34:15.704244",
     "exception": false,
     "start_time": "2022-07-12T12:34:15.681252",
     "status": "completed"
    },
    "tags": []
   },
   "outputs": [
    {
     "data": {
      "application/javascript": [
       "parent.postMessage({\"jupyterEvent\": \"custom.exercise_interaction\", \"data\": {\"outcomeType\": 1, \"valueTowardsCompletion\": 0.16666666666666666, \"interactionType\": 1, \"questionType\": 1, \"questionId\": \"2_BestRatingPerPrice\", \"learnToolsVersion\": \"0.3.4\", \"failureMessage\": \"\", \"exceptionClass\": \"\", \"trace\": \"\"}}, \"*\")"
      ],
      "text/plain": [
       "<IPython.core.display.Javascript object>"
      ]
     },
     "metadata": {},
     "output_type": "display_data"
    },
    {
     "data": {
      "text/markdown": [
       "<span style=\"color:#33cc33\">Correct</span>"
      ],
      "text/plain": [
       "Correct"
      ]
     },
     "metadata": {},
     "output_type": "display_data"
    }
   ],
   "source": [
    "best_rating_per_price = reviews.groupby('price').points.max()\n",
    "\n",
    "# Check your answer\n",
    "q2.check()"
   ]
  },
  {
   "cell_type": "code",
   "execution_count": 6,
   "id": "d3c05930",
   "metadata": {
    "execution": {
     "iopub.execute_input": "2022-07-12T12:34:15.717688Z",
     "iopub.status.busy": "2022-07-12T12:34:15.717287Z",
     "iopub.status.idle": "2022-07-12T12:34:15.721654Z",
     "shell.execute_reply": "2022-07-12T12:34:15.720606Z"
    },
    "papermill": {
     "duration": 0.013895,
     "end_time": "2022-07-12T12:34:15.723861",
     "exception": false,
     "start_time": "2022-07-12T12:34:15.709966",
     "status": "completed"
    },
    "tags": []
   },
   "outputs": [],
   "source": [
    "#q2.hint()\n",
    "#q2.solution()"
   ]
  },
  {
   "cell_type": "markdown",
   "id": "37becb60",
   "metadata": {
    "papermill": {
     "duration": 0.005536,
     "end_time": "2022-07-12T12:34:15.735377",
     "exception": false,
     "start_time": "2022-07-12T12:34:15.729841",
     "status": "completed"
    },
    "tags": []
   },
   "source": [
    "## 3.\n",
    "What are the minimum and maximum prices for each `variety` of wine? Create a `DataFrame` whose index is the `variety` category from the dataset and whose values are the `min` and `max` values thereof."
   ]
  },
  {
   "cell_type": "code",
   "execution_count": 7,
   "id": "c3450873",
   "metadata": {
    "execution": {
     "iopub.execute_input": "2022-07-12T12:34:15.748906Z",
     "iopub.status.busy": "2022-07-12T12:34:15.748488Z",
     "iopub.status.idle": "2022-07-12T12:34:15.784755Z",
     "shell.execute_reply": "2022-07-12T12:34:15.783697Z"
    },
    "papermill": {
     "duration": 0.045696,
     "end_time": "2022-07-12T12:34:15.786859",
     "exception": false,
     "start_time": "2022-07-12T12:34:15.741163",
     "status": "completed"
    },
    "tags": []
   },
   "outputs": [
    {
     "data": {
      "application/javascript": [
       "parent.postMessage({\"jupyterEvent\": \"custom.exercise_interaction\", \"data\": {\"outcomeType\": 1, \"valueTowardsCompletion\": 0.16666666666666666, \"interactionType\": 1, \"questionType\": 1, \"questionId\": \"3_PriceExtremes\", \"learnToolsVersion\": \"0.3.4\", \"failureMessage\": \"\", \"exceptionClass\": \"\", \"trace\": \"\"}}, \"*\")"
      ],
      "text/plain": [
       "<IPython.core.display.Javascript object>"
      ]
     },
     "metadata": {},
     "output_type": "display_data"
    },
    {
     "data": {
      "text/markdown": [
       "<span style=\"color:#33cc33\">Correct</span>"
      ],
      "text/plain": [
       "Correct"
      ]
     },
     "metadata": {},
     "output_type": "display_data"
    }
   ],
   "source": [
    "price_extremes = pd.DataFrame({\"min\" : reviews.groupby('variety').price.min(),\n",
    "                               \"max\" : reviews.groupby('variety').price.max()})\n",
    "\n",
    "# Check your answer\n",
    "q3.check()"
   ]
  },
  {
   "cell_type": "code",
   "execution_count": 8,
   "id": "fefc03a7",
   "metadata": {
    "execution": {
     "iopub.execute_input": "2022-07-12T12:34:15.801952Z",
     "iopub.status.busy": "2022-07-12T12:34:15.800795Z",
     "iopub.status.idle": "2022-07-12T12:34:15.805692Z",
     "shell.execute_reply": "2022-07-12T12:34:15.804877Z"
    },
    "papermill": {
     "duration": 0.014326,
     "end_time": "2022-07-12T12:34:15.807621",
     "exception": false,
     "start_time": "2022-07-12T12:34:15.793295",
     "status": "completed"
    },
    "tags": []
   },
   "outputs": [],
   "source": [
    "#q3.hint()\n",
    "#q3.solution()"
   ]
  },
  {
   "cell_type": "markdown",
   "id": "8e5b4de2",
   "metadata": {
    "papermill": {
     "duration": 0.005676,
     "end_time": "2022-07-12T12:34:15.819412",
     "exception": false,
     "start_time": "2022-07-12T12:34:15.813736",
     "status": "completed"
    },
    "tags": []
   },
   "source": [
    "## 4.\n",
    "What are the most expensive wine varieties? Create a variable `sorted_varieties` containing a copy of the dataframe from the previous question where varieties are sorted in descending order based on minimum price, then on maximum price (to break ties)."
   ]
  },
  {
   "cell_type": "code",
   "execution_count": 9,
   "id": "8df209fc",
   "metadata": {
    "execution": {
     "iopub.execute_input": "2022-07-12T12:34:15.835454Z",
     "iopub.status.busy": "2022-07-12T12:34:15.832976Z",
     "iopub.status.idle": "2022-07-12T12:34:15.845113Z",
     "shell.execute_reply": "2022-07-12T12:34:15.844076Z"
    },
    "papermill": {
     "duration": 0.021362,
     "end_time": "2022-07-12T12:34:15.847248",
     "exception": false,
     "start_time": "2022-07-12T12:34:15.825886",
     "status": "completed"
    },
    "tags": []
   },
   "outputs": [
    {
     "data": {
      "application/javascript": [
       "parent.postMessage({\"jupyterEvent\": \"custom.exercise_interaction\", \"data\": {\"outcomeType\": 1, \"valueTowardsCompletion\": 0.16666666666666666, \"interactionType\": 1, \"questionType\": 1, \"questionId\": \"4_SortedVarieties\", \"learnToolsVersion\": \"0.3.4\", \"failureMessage\": \"\", \"exceptionClass\": \"\", \"trace\": \"\"}}, \"*\")"
      ],
      "text/plain": [
       "<IPython.core.display.Javascript object>"
      ]
     },
     "metadata": {},
     "output_type": "display_data"
    },
    {
     "data": {
      "text/markdown": [
       "<span style=\"color:#33cc33\">Correct</span>"
      ],
      "text/plain": [
       "Correct"
      ]
     },
     "metadata": {},
     "output_type": "display_data"
    }
   ],
   "source": [
    "pe = price_extremes\n",
    "sorted_varieties = pe.sort_values(by=['min','max'], ascending=False)\n",
    "\n",
    "# Check your answer\n",
    "q4.check()"
   ]
  },
  {
   "cell_type": "code",
   "execution_count": 10,
   "id": "1654929a",
   "metadata": {
    "execution": {
     "iopub.execute_input": "2022-07-12T12:34:15.860895Z",
     "iopub.status.busy": "2022-07-12T12:34:15.860535Z",
     "iopub.status.idle": "2022-07-12T12:34:15.864722Z",
     "shell.execute_reply": "2022-07-12T12:34:15.863710Z"
    },
    "papermill": {
     "duration": 0.013363,
     "end_time": "2022-07-12T12:34:15.866744",
     "exception": false,
     "start_time": "2022-07-12T12:34:15.853381",
     "status": "completed"
    },
    "tags": []
   },
   "outputs": [],
   "source": [
    "#q4.hint()\n",
    "#q4.solution()"
   ]
  },
  {
   "cell_type": "markdown",
   "id": "29b7be78",
   "metadata": {
    "papermill": {
     "duration": 0.005741,
     "end_time": "2022-07-12T12:34:15.878574",
     "exception": false,
     "start_time": "2022-07-12T12:34:15.872833",
     "status": "completed"
    },
    "tags": []
   },
   "source": [
    "## 5.\n",
    "Create a `Series` whose index is reviewers and whose values is the average review score given out by that reviewer. Hint: you will need the `taster_name` and `points` columns."
   ]
  },
  {
   "cell_type": "code",
   "execution_count": 11,
   "id": "6841f0b6",
   "metadata": {
    "execution": {
     "iopub.execute_input": "2022-07-12T12:34:15.892379Z",
     "iopub.status.busy": "2022-07-12T12:34:15.892003Z",
     "iopub.status.idle": "2022-07-12T12:34:15.912477Z",
     "shell.execute_reply": "2022-07-12T12:34:15.911273Z"
    },
    "papermill": {
     "duration": 0.02996,
     "end_time": "2022-07-12T12:34:15.914591",
     "exception": false,
     "start_time": "2022-07-12T12:34:15.884631",
     "status": "completed"
    },
    "tags": []
   },
   "outputs": [
    {
     "data": {
      "application/javascript": [
       "parent.postMessage({\"jupyterEvent\": \"custom.exercise_interaction\", \"data\": {\"outcomeType\": 1, \"valueTowardsCompletion\": 0.16666666666666666, \"interactionType\": 1, \"questionType\": 1, \"questionId\": \"5_ReviewerMeanRatings\", \"learnToolsVersion\": \"0.3.4\", \"failureMessage\": \"\", \"exceptionClass\": \"\", \"trace\": \"\"}}, \"*\")"
      ],
      "text/plain": [
       "<IPython.core.display.Javascript object>"
      ]
     },
     "metadata": {},
     "output_type": "display_data"
    },
    {
     "data": {
      "text/markdown": [
       "<span style=\"color:#33cc33\">Correct</span>"
      ],
      "text/plain": [
       "Correct"
      ]
     },
     "metadata": {},
     "output_type": "display_data"
    }
   ],
   "source": [
    "reviewer_mean_ratings = reviews.groupby('taster_name').points.mean()\n",
    "\n",
    "# Check your answer\n",
    "q5.check()"
   ]
  },
  {
   "cell_type": "code",
   "execution_count": 12,
   "id": "91c44977",
   "metadata": {
    "execution": {
     "iopub.execute_input": "2022-07-12T12:34:15.929521Z",
     "iopub.status.busy": "2022-07-12T12:34:15.929082Z",
     "iopub.status.idle": "2022-07-12T12:34:15.933317Z",
     "shell.execute_reply": "2022-07-12T12:34:15.932485Z"
    },
    "papermill": {
     "duration": 0.014183,
     "end_time": "2022-07-12T12:34:15.935271",
     "exception": false,
     "start_time": "2022-07-12T12:34:15.921088",
     "status": "completed"
    },
    "tags": []
   },
   "outputs": [],
   "source": [
    "#q5.hint()\n",
    "#q5.solution()"
   ]
  },
  {
   "cell_type": "markdown",
   "id": "dfabe037",
   "metadata": {
    "papermill": {
     "duration": 0.006506,
     "end_time": "2022-07-12T12:34:15.948279",
     "exception": false,
     "start_time": "2022-07-12T12:34:15.941773",
     "status": "completed"
    },
    "tags": []
   },
   "source": [
    "Are there significant differences in the average scores assigned by the various reviewers? Run the cell below to use the `describe()` method to see a summary of the range of values."
   ]
  },
  {
   "cell_type": "code",
   "execution_count": 13,
   "id": "86649c2c",
   "metadata": {
    "execution": {
     "iopub.execute_input": "2022-07-12T12:34:15.963373Z",
     "iopub.status.busy": "2022-07-12T12:34:15.962980Z",
     "iopub.status.idle": "2022-07-12T12:34:15.975286Z",
     "shell.execute_reply": "2022-07-12T12:34:15.974174Z"
    },
    "papermill": {
     "duration": 0.022679,
     "end_time": "2022-07-12T12:34:15.977519",
     "exception": false,
     "start_time": "2022-07-12T12:34:15.954840",
     "status": "completed"
    },
    "tags": []
   },
   "outputs": [
    {
     "data": {
      "text/plain": [
       "count    19.000000\n",
       "mean     88.233026\n",
       "std       1.243610\n",
       "min      85.855422\n",
       "25%      87.323501\n",
       "50%      88.536235\n",
       "75%      88.975256\n",
       "max      90.562551\n",
       "Name: points, dtype: float64"
      ]
     },
     "execution_count": 13,
     "metadata": {},
     "output_type": "execute_result"
    }
   ],
   "source": [
    "reviewer_mean_ratings.describe()"
   ]
  },
  {
   "cell_type": "markdown",
   "id": "04d24ba4",
   "metadata": {
    "papermill": {
     "duration": 0.006188,
     "end_time": "2022-07-12T12:34:15.990352",
     "exception": false,
     "start_time": "2022-07-12T12:34:15.984164",
     "status": "completed"
    },
    "tags": []
   },
   "source": [
    "## 6.\n",
    "What combination of countries and varieties are most common? Create a `Series` whose index is a `MultiIndex`of `{country, variety}` pairs. For example, a pinot noir produced in the US should map to `{\"US\", \"Pinot Noir\"}`. Sort the values in the `Series` in descending order based on wine count."
   ]
  },
  {
   "cell_type": "code",
   "execution_count": 14,
   "id": "be344a60",
   "metadata": {
    "execution": {
     "iopub.execute_input": "2022-07-12T12:34:16.004799Z",
     "iopub.status.busy": "2022-07-12T12:34:16.004362Z",
     "iopub.status.idle": "2022-07-12T12:34:16.039635Z",
     "shell.execute_reply": "2022-07-12T12:34:16.038582Z"
    },
    "papermill": {
     "duration": 0.045218,
     "end_time": "2022-07-12T12:34:16.042060",
     "exception": false,
     "start_time": "2022-07-12T12:34:15.996842",
     "status": "completed"
    },
    "tags": []
   },
   "outputs": [
    {
     "data": {
      "application/javascript": [
       "parent.postMessage({\"jupyterEvent\": \"custom.exercise_interaction\", \"data\": {\"outcomeType\": 1, \"valueTowardsCompletion\": 0.16666666666666666, \"interactionType\": 1, \"questionType\": 1, \"questionId\": \"6_GroupbyCountryVariety\", \"learnToolsVersion\": \"0.3.4\", \"failureMessage\": \"\", \"exceptionClass\": \"\", \"trace\": \"\"}}, \"*\")"
      ],
      "text/plain": [
       "<IPython.core.display.Javascript object>"
      ]
     },
     "metadata": {},
     "output_type": "display_data"
    },
    {
     "data": {
      "text/markdown": [
       "<span style=\"color:#33cc33\">Correct</span>"
      ],
      "text/plain": [
       "Correct"
      ]
     },
     "metadata": {},
     "output_type": "display_data"
    }
   ],
   "source": [
    "country_variety_counts = reviews.groupby(['country', 'variety']).size().sort_values(ascending=False)\n",
    "\n",
    "# Check your answer\n",
    "q6.check()"
   ]
  },
  {
   "cell_type": "code",
   "execution_count": 15,
   "id": "b4448e40",
   "metadata": {
    "execution": {
     "iopub.execute_input": "2022-07-12T12:34:16.056938Z",
     "iopub.status.busy": "2022-07-12T12:34:16.056554Z",
     "iopub.status.idle": "2022-07-12T12:34:16.060539Z",
     "shell.execute_reply": "2022-07-12T12:34:16.059751Z"
    },
    "papermill": {
     "duration": 0.013731,
     "end_time": "2022-07-12T12:34:16.062498",
     "exception": false,
     "start_time": "2022-07-12T12:34:16.048767",
     "status": "completed"
    },
    "tags": []
   },
   "outputs": [],
   "source": [
    "#q6.hint()\n",
    "#q6.solution()"
   ]
  },
  {
   "cell_type": "markdown",
   "id": "ef571996",
   "metadata": {
    "papermill": {
     "duration": 0.006423,
     "end_time": "2022-07-12T12:34:16.076080",
     "exception": false,
     "start_time": "2022-07-12T12:34:16.069657",
     "status": "completed"
    },
    "tags": []
   },
   "source": [
    "# Keep going\n",
    "\n",
    "Move on to the [**data types and missing data**](https://www.kaggle.com/residentmario/data-types-and-missing-values)."
   ]
  },
  {
   "cell_type": "markdown",
   "id": "1506b0d2",
   "metadata": {
    "papermill": {
     "duration": 0.006863,
     "end_time": "2022-07-12T12:34:16.089650",
     "exception": false,
     "start_time": "2022-07-12T12:34:16.082787",
     "status": "completed"
    },
    "tags": []
   },
   "source": [
    "---\n",
    "\n",
    "\n",
    "\n",
    "\n",
    "*Have questions or comments? Visit the [course discussion forum](https://www.kaggle.com/learn/pandas/discussion) to chat with other learners.*"
   ]
  }
 ],
 "metadata": {
  "kernelspec": {
   "display_name": "Python 3",
   "language": "python",
   "name": "python3"
  },
  "language_info": {
   "codemirror_mode": {
    "name": "ipython",
    "version": 3
   },
   "file_extension": ".py",
   "mimetype": "text/x-python",
   "name": "python",
   "nbconvert_exporter": "python",
   "pygments_lexer": "ipython3",
   "version": "3.7.12"
  },
  "papermill": {
   "default_parameters": {},
   "duration": 13.079374,
   "end_time": "2022-07-12T12:34:16.817984",
   "environment_variables": {},
   "exception": null,
   "input_path": "__notebook__.ipynb",
   "output_path": "__notebook__.ipynb",
   "parameters": {},
   "start_time": "2022-07-12T12:34:03.738610",
   "version": "2.3.4"
  }
 },
 "nbformat": 4,
 "nbformat_minor": 5
}
